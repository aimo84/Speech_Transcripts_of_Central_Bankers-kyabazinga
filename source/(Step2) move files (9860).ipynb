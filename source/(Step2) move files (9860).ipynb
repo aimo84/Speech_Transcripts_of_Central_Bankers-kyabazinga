{
 "cells": [
  {
   "cell_type": "code",
   "execution_count": 1,
   "metadata": {},
   "outputs": [],
   "source": [
    "import os, shutil\n",
    "import pandas as pd\n",
    "import glob\n",
    "from tqdm import tqdm"
   ]
  },
  {
   "cell_type": "code",
   "execution_count": 2,
   "metadata": {},
   "outputs": [
    {
     "data": {
      "text/plain": [
       "'C:\\\\Users\\\\Jihye Park\\\\OneDrive - SNU\\\\바탕 화면\\\\연구노트\\\\BIS_Suwan\\\\central_bankers_speeches_dataset\\\\Speech_texts'"
      ]
     },
     "execution_count": 2,
     "metadata": {},
     "output_type": "execute_result"
    }
   ],
   "source": [
    "DATA_DIR = r'C:\\Users\\Jihye Park\\OneDrive - SNU\\바탕 화면\\연구노트\\BIS_Suwan\\central_bankers_speeches_dataset\\Speech_texts'\n",
    "DATA_DIR"
   ]
  },
  {
   "cell_type": "code",
   "execution_count": 3,
   "metadata": {},
   "outputs": [
    {
     "data": {
      "text/html": [
       "<div>\n",
       "<style scoped>\n",
       "    .dataframe tbody tr th:only-of-type {\n",
       "        vertical-align: middle;\n",
       "    }\n",
       "\n",
       "    .dataframe tbody tr th {\n",
       "        vertical-align: top;\n",
       "    }\n",
       "\n",
       "    .dataframe thead th {\n",
       "        text-align: right;\n",
       "    }\n",
       "</style>\n",
       "<table border=\"1\" class=\"dataframe\">\n",
       "  <thead>\n",
       "    <tr style=\"text-align: right;\">\n",
       "      <th></th>\n",
       "      <th>id</th>\n",
       "      <th>institution</th>\n",
       "      <th>country</th>\n",
       "    </tr>\n",
       "  </thead>\n",
       "  <tbody>\n",
       "    <tr>\n",
       "      <th>0</th>\n",
       "      <td>r210416a</td>\n",
       "      <td>The People's Bank of China</td>\n",
       "      <td>China</td>\n",
       "    </tr>\n",
       "    <tr>\n",
       "      <th>1</th>\n",
       "      <td>r210322a</td>\n",
       "      <td>The People's Bank of China</td>\n",
       "      <td>China</td>\n",
       "    </tr>\n",
       "    <tr>\n",
       "      <th>2</th>\n",
       "      <td>r210127j</td>\n",
       "      <td>The People's Bank of China</td>\n",
       "      <td>China</td>\n",
       "    </tr>\n",
       "    <tr>\n",
       "      <th>3</th>\n",
       "      <td>r210217b</td>\n",
       "      <td>The People's Bank of China</td>\n",
       "      <td>China</td>\n",
       "    </tr>\n",
       "    <tr>\n",
       "      <th>4</th>\n",
       "      <td>r201223b</td>\n",
       "      <td>The People's Bank of China</td>\n",
       "      <td>China</td>\n",
       "    </tr>\n",
       "    <tr>\n",
       "      <th>...</th>\n",
       "      <td>...</td>\n",
       "      <td>...</td>\n",
       "      <td>...</td>\n",
       "    </tr>\n",
       "    <tr>\n",
       "      <th>9855</th>\n",
       "      <td>r131125i</td>\n",
       "      <td>European Central Bank</td>\n",
       "      <td>Euro area</td>\n",
       "    </tr>\n",
       "    <tr>\n",
       "      <th>9856</th>\n",
       "      <td>r131125h</td>\n",
       "      <td>European Central Bank</td>\n",
       "      <td>Euro area</td>\n",
       "    </tr>\n",
       "    <tr>\n",
       "      <th>9857</th>\n",
       "      <td>r131122h</td>\n",
       "      <td>European Central Bank</td>\n",
       "      <td>Euro area</td>\n",
       "    </tr>\n",
       "    <tr>\n",
       "      <th>9858</th>\n",
       "      <td>r131122g</td>\n",
       "      <td>European Central Bank</td>\n",
       "      <td>Euro area</td>\n",
       "    </tr>\n",
       "    <tr>\n",
       "      <th>9859</th>\n",
       "      <td>r131119b</td>\n",
       "      <td>European Central Bank</td>\n",
       "      <td>Euro area</td>\n",
       "    </tr>\n",
       "  </tbody>\n",
       "</table>\n",
       "<p>9860 rows × 3 columns</p>\n",
       "</div>"
      ],
      "text/plain": [
       "            id                 institution    country\n",
       "0     r210416a  The People's Bank of China      China\n",
       "1     r210322a  The People's Bank of China      China\n",
       "2     r210127j  The People's Bank of China      China\n",
       "3     r210217b  The People's Bank of China      China\n",
       "4     r201223b  The People's Bank of China      China\n",
       "...        ...                         ...        ...\n",
       "9855  r131125i       European Central Bank  Euro area\n",
       "9856  r131125h       European Central Bank  Euro area\n",
       "9857  r131122h       European Central Bank  Euro area\n",
       "9858  r131122g       European Central Bank  Euro area\n",
       "9859  r131119b       European Central Bank  Euro area\n",
       "\n",
       "[9860 rows x 3 columns]"
      ]
     },
     "execution_count": 3,
     "metadata": {},
     "output_type": "execute_result"
    }
   ],
   "source": [
    "df = pd.read_csv('filter_info.csv')\n",
    "df"
   ]
  },
  {
   "cell_type": "code",
   "execution_count": 4,
   "metadata": {},
   "outputs": [],
   "source": [
    "df = df.fillna('')"
   ]
  },
  {
   "cell_type": "code",
   "execution_count": 5,
   "metadata": {},
   "outputs": [
    {
     "name": "stderr",
     "output_type": "stream",
     "text": [
      "100%|██████████████████████████████████████████████████████████████████████████████████| 48/48 [05:14<00:00,  6.55s/it]\n"
     ]
    }
   ],
   "source": [
    "dirnames = ['PDF', 'Texts']\n",
    "years = range(1997, 2020+1)\n",
    "for dirname, yyyy in tqdm([(dirname, year) for dirname in dirnames for year in years]):\n",
    "    current_dir = os.path.join(DATA_DIR, dirname, str(yyyy))\n",
    "    filepaths = glob.glob(os.path.join(current_dir, '*'))\n",
    "\n",
    "    for src in filepaths:\n",
    "        key = os.path.basename(src)[:-4]\n",
    "        rows = df[df.id==key]\n",
    "        if len(rows) >0:\n",
    "            row = rows.iloc[0]\n",
    "            save_dir = os.path.join(current_dir, '_'.join([row.institution, row.country]))\n",
    "            if not os.path.exists(save_dir): os.mkdir(save_dir)\n",
    "\n",
    "            target = os.path.join(save_dir, os.path.basename(src))\n",
    "            shutil.move(src, target)\n",
    "        else:\n",
    "            save_dir = os.path.join(current_dir, 'Unmapped')\n",
    "            if not os.path.exists(save_dir): os.mkdir(save_dir)\n",
    "\n",
    "            target = os.path.join(save_dir, os.path.basename(src))\n",
    "            shutil.move(src, target)"
   ]
  }
 ],
 "metadata": {
  "kernelspec": {
   "display_name": "Python 3",
   "language": "python",
   "name": "python3"
  },
  "language_info": {
   "codemirror_mode": {
    "name": "ipython",
    "version": 3
   },
   "file_extension": ".py",
   "mimetype": "text/x-python",
   "name": "python",
   "nbconvert_exporter": "python",
   "pygments_lexer": "ipython3",
   "version": "3.8.5"
  }
 },
 "nbformat": 4,
 "nbformat_minor": 4
}
